{
 "cells": [
  {
   "cell_type": "code",
   "execution_count": 1,
   "id": "28ce4d27-f149-4313-bb7d-437dc513257c",
   "metadata": {},
   "outputs": [],
   "source": [
    "import numpy as np\n",
    "import pandas as pd\n",
    "from sklearn.cluster import KMeans\n",
    "from sklearn.model_selection import train_test_split\n",
    "from sklearn.datasets import fetch_openml\n",
    "from sklearn.tree import DecisionTreeClassifier\n",
    "from sklearn.model_selection import GridSearchCV\n",
    "from sklearn.metrics import accuracy_score, f1_score, make_scorer\n",
    "from sklearn.pipeline import make_pipeline\n",
    "from sklearn.ensemble import GradientBoostingClassifier\n",
    "from sklearn.decomposition import PCA\n",
    "from sklearn.preprocessing import StandardScaler\n",
    "from scipy.spatial.distance import cdist\n",
    "import matplotlib.pyplot as plt\n",
    "import time"
   ]
  },
  {
   "cell_type": "code",
   "execution_count": 2,
   "id": "03d5d0c6-8d92-4b96-8efe-b53046a63226",
   "metadata": {},
   "outputs": [],
   "source": [
    "mnist = fetch_openml('mnist_784', as_frame = False)"
   ]
  },
  {
   "cell_type": "code",
   "execution_count": 3,
   "id": "236581a6-f140-47f2-910f-55f90ea50ba2",
   "metadata": {},
   "outputs": [],
   "source": [
    "X, y = mnist.data, mnist.target\n",
    "X_train, X_test, y_train, y_test = train_test_split(X, y, test_size = 0.15, random_state = 42, stratify=y)"
   ]
  },
  {
   "cell_type": "code",
   "execution_count": 4,
   "id": "9f3be0c8-0902-4040-8c9d-95de39eacbcd",
   "metadata": {},
   "outputs": [],
   "source": [
    "X_train, X_test, y_train, y_test = X_train[:10000], X_test[:2000], y_train[:10000], y_test[:2000]"
   ]
  },
  {
   "cell_type": "code",
   "execution_count": 5,
   "id": "ee9007b6-9207-4f97-a9c4-96dafa7cf9b6",
   "metadata": {},
   "outputs": [],
   "source": [
    "y_train, y_test = y_train.astype('int64'), y_test.astype('int64')"
   ]
  },
  {
   "cell_type": "code",
   "execution_count": 6,
   "id": "7149bc95-3563-4e84-b865-c96a60da27f2",
   "metadata": {},
   "outputs": [
    {
     "data": {
      "text/html": [
       "<style>#sk-container-id-1 {\n",
       "  /* Definition of color scheme common for light and dark mode */\n",
       "  --sklearn-color-text: black;\n",
       "  --sklearn-color-line: gray;\n",
       "  /* Definition of color scheme for unfitted estimators */\n",
       "  --sklearn-color-unfitted-level-0: #fff5e6;\n",
       "  --sklearn-color-unfitted-level-1: #f6e4d2;\n",
       "  --sklearn-color-unfitted-level-2: #ffe0b3;\n",
       "  --sklearn-color-unfitted-level-3: chocolate;\n",
       "  /* Definition of color scheme for fitted estimators */\n",
       "  --sklearn-color-fitted-level-0: #f0f8ff;\n",
       "  --sklearn-color-fitted-level-1: #d4ebff;\n",
       "  --sklearn-color-fitted-level-2: #b3dbfd;\n",
       "  --sklearn-color-fitted-level-3: cornflowerblue;\n",
       "\n",
       "  /* Specific color for light theme */\n",
       "  --sklearn-color-text-on-default-background: var(--sg-text-color, var(--theme-code-foreground, var(--jp-content-font-color1, black)));\n",
       "  --sklearn-color-background: var(--sg-background-color, var(--theme-background, var(--jp-layout-color0, white)));\n",
       "  --sklearn-color-border-box: var(--sg-text-color, var(--theme-code-foreground, var(--jp-content-font-color1, black)));\n",
       "  --sklearn-color-icon: #696969;\n",
       "\n",
       "  @media (prefers-color-scheme: dark) {\n",
       "    /* Redefinition of color scheme for dark theme */\n",
       "    --sklearn-color-text-on-default-background: var(--sg-text-color, var(--theme-code-foreground, var(--jp-content-font-color1, white)));\n",
       "    --sklearn-color-background: var(--sg-background-color, var(--theme-background, var(--jp-layout-color0, #111)));\n",
       "    --sklearn-color-border-box: var(--sg-text-color, var(--theme-code-foreground, var(--jp-content-font-color1, white)));\n",
       "    --sklearn-color-icon: #878787;\n",
       "  }\n",
       "}\n",
       "\n",
       "#sk-container-id-1 {\n",
       "  color: var(--sklearn-color-text);\n",
       "}\n",
       "\n",
       "#sk-container-id-1 pre {\n",
       "  padding: 0;\n",
       "}\n",
       "\n",
       "#sk-container-id-1 input.sk-hidden--visually {\n",
       "  border: 0;\n",
       "  clip: rect(1px 1px 1px 1px);\n",
       "  clip: rect(1px, 1px, 1px, 1px);\n",
       "  height: 1px;\n",
       "  margin: -1px;\n",
       "  overflow: hidden;\n",
       "  padding: 0;\n",
       "  position: absolute;\n",
       "  width: 1px;\n",
       "}\n",
       "\n",
       "#sk-container-id-1 div.sk-dashed-wrapped {\n",
       "  border: 1px dashed var(--sklearn-color-line);\n",
       "  margin: 0 0.4em 0.5em 0.4em;\n",
       "  box-sizing: border-box;\n",
       "  padding-bottom: 0.4em;\n",
       "  background-color: var(--sklearn-color-background);\n",
       "}\n",
       "\n",
       "#sk-container-id-1 div.sk-container {\n",
       "  /* jupyter's `normalize.less` sets `[hidden] { display: none; }`\n",
       "     but bootstrap.min.css set `[hidden] { display: none !important; }`\n",
       "     so we also need the `!important` here to be able to override the\n",
       "     default hidden behavior on the sphinx rendered scikit-learn.org.\n",
       "     See: https://github.com/scikit-learn/scikit-learn/issues/21755 */\n",
       "  display: inline-block !important;\n",
       "  position: relative;\n",
       "}\n",
       "\n",
       "#sk-container-id-1 div.sk-text-repr-fallback {\n",
       "  display: none;\n",
       "}\n",
       "\n",
       "div.sk-parallel-item,\n",
       "div.sk-serial,\n",
       "div.sk-item {\n",
       "  /* draw centered vertical line to link estimators */\n",
       "  background-image: linear-gradient(var(--sklearn-color-text-on-default-background), var(--sklearn-color-text-on-default-background));\n",
       "  background-size: 2px 100%;\n",
       "  background-repeat: no-repeat;\n",
       "  background-position: center center;\n",
       "}\n",
       "\n",
       "/* Parallel-specific style estimator block */\n",
       "\n",
       "#sk-container-id-1 div.sk-parallel-item::after {\n",
       "  content: \"\";\n",
       "  width: 100%;\n",
       "  border-bottom: 2px solid var(--sklearn-color-text-on-default-background);\n",
       "  flex-grow: 1;\n",
       "}\n",
       "\n",
       "#sk-container-id-1 div.sk-parallel {\n",
       "  display: flex;\n",
       "  align-items: stretch;\n",
       "  justify-content: center;\n",
       "  background-color: var(--sklearn-color-background);\n",
       "  position: relative;\n",
       "}\n",
       "\n",
       "#sk-container-id-1 div.sk-parallel-item {\n",
       "  display: flex;\n",
       "  flex-direction: column;\n",
       "}\n",
       "\n",
       "#sk-container-id-1 div.sk-parallel-item:first-child::after {\n",
       "  align-self: flex-end;\n",
       "  width: 50%;\n",
       "}\n",
       "\n",
       "#sk-container-id-1 div.sk-parallel-item:last-child::after {\n",
       "  align-self: flex-start;\n",
       "  width: 50%;\n",
       "}\n",
       "\n",
       "#sk-container-id-1 div.sk-parallel-item:only-child::after {\n",
       "  width: 0;\n",
       "}\n",
       "\n",
       "/* Serial-specific style estimator block */\n",
       "\n",
       "#sk-container-id-1 div.sk-serial {\n",
       "  display: flex;\n",
       "  flex-direction: column;\n",
       "  align-items: center;\n",
       "  background-color: var(--sklearn-color-background);\n",
       "  padding-right: 1em;\n",
       "  padding-left: 1em;\n",
       "}\n",
       "\n",
       "\n",
       "/* Toggleable style: style used for estimator/Pipeline/ColumnTransformer box that is\n",
       "clickable and can be expanded/collapsed.\n",
       "- Pipeline and ColumnTransformer use this feature and define the default style\n",
       "- Estimators will overwrite some part of the style using the `sk-estimator` class\n",
       "*/\n",
       "\n",
       "/* Pipeline and ColumnTransformer style (default) */\n",
       "\n",
       "#sk-container-id-1 div.sk-toggleable {\n",
       "  /* Default theme specific background. It is overwritten whether we have a\n",
       "  specific estimator or a Pipeline/ColumnTransformer */\n",
       "  background-color: var(--sklearn-color-background);\n",
       "}\n",
       "\n",
       "/* Toggleable label */\n",
       "#sk-container-id-1 label.sk-toggleable__label {\n",
       "  cursor: pointer;\n",
       "  display: block;\n",
       "  width: 100%;\n",
       "  margin-bottom: 0;\n",
       "  padding: 0.5em;\n",
       "  box-sizing: border-box;\n",
       "  text-align: center;\n",
       "}\n",
       "\n",
       "#sk-container-id-1 label.sk-toggleable__label-arrow:before {\n",
       "  /* Arrow on the left of the label */\n",
       "  content: \"▸\";\n",
       "  float: left;\n",
       "  margin-right: 0.25em;\n",
       "  color: var(--sklearn-color-icon);\n",
       "}\n",
       "\n",
       "#sk-container-id-1 label.sk-toggleable__label-arrow:hover:before {\n",
       "  color: var(--sklearn-color-text);\n",
       "}\n",
       "\n",
       "/* Toggleable content - dropdown */\n",
       "\n",
       "#sk-container-id-1 div.sk-toggleable__content {\n",
       "  max-height: 0;\n",
       "  max-width: 0;\n",
       "  overflow: hidden;\n",
       "  text-align: left;\n",
       "  /* unfitted */\n",
       "  background-color: var(--sklearn-color-unfitted-level-0);\n",
       "}\n",
       "\n",
       "#sk-container-id-1 div.sk-toggleable__content.fitted {\n",
       "  /* fitted */\n",
       "  background-color: var(--sklearn-color-fitted-level-0);\n",
       "}\n",
       "\n",
       "#sk-container-id-1 div.sk-toggleable__content pre {\n",
       "  margin: 0.2em;\n",
       "  border-radius: 0.25em;\n",
       "  color: var(--sklearn-color-text);\n",
       "  /* unfitted */\n",
       "  background-color: var(--sklearn-color-unfitted-level-0);\n",
       "}\n",
       "\n",
       "#sk-container-id-1 div.sk-toggleable__content.fitted pre {\n",
       "  /* unfitted */\n",
       "  background-color: var(--sklearn-color-fitted-level-0);\n",
       "}\n",
       "\n",
       "#sk-container-id-1 input.sk-toggleable__control:checked~div.sk-toggleable__content {\n",
       "  /* Expand drop-down */\n",
       "  max-height: 200px;\n",
       "  max-width: 100%;\n",
       "  overflow: auto;\n",
       "}\n",
       "\n",
       "#sk-container-id-1 input.sk-toggleable__control:checked~label.sk-toggleable__label-arrow:before {\n",
       "  content: \"▾\";\n",
       "}\n",
       "\n",
       "/* Pipeline/ColumnTransformer-specific style */\n",
       "\n",
       "#sk-container-id-1 div.sk-label input.sk-toggleable__control:checked~label.sk-toggleable__label {\n",
       "  color: var(--sklearn-color-text);\n",
       "  background-color: var(--sklearn-color-unfitted-level-2);\n",
       "}\n",
       "\n",
       "#sk-container-id-1 div.sk-label.fitted input.sk-toggleable__control:checked~label.sk-toggleable__label {\n",
       "  background-color: var(--sklearn-color-fitted-level-2);\n",
       "}\n",
       "\n",
       "/* Estimator-specific style */\n",
       "\n",
       "/* Colorize estimator box */\n",
       "#sk-container-id-1 div.sk-estimator input.sk-toggleable__control:checked~label.sk-toggleable__label {\n",
       "  /* unfitted */\n",
       "  background-color: var(--sklearn-color-unfitted-level-2);\n",
       "}\n",
       "\n",
       "#sk-container-id-1 div.sk-estimator.fitted input.sk-toggleable__control:checked~label.sk-toggleable__label {\n",
       "  /* fitted */\n",
       "  background-color: var(--sklearn-color-fitted-level-2);\n",
       "}\n",
       "\n",
       "#sk-container-id-1 div.sk-label label.sk-toggleable__label,\n",
       "#sk-container-id-1 div.sk-label label {\n",
       "  /* The background is the default theme color */\n",
       "  color: var(--sklearn-color-text-on-default-background);\n",
       "}\n",
       "\n",
       "/* On hover, darken the color of the background */\n",
       "#sk-container-id-1 div.sk-label:hover label.sk-toggleable__label {\n",
       "  color: var(--sklearn-color-text);\n",
       "  background-color: var(--sklearn-color-unfitted-level-2);\n",
       "}\n",
       "\n",
       "/* Label box, darken color on hover, fitted */\n",
       "#sk-container-id-1 div.sk-label.fitted:hover label.sk-toggleable__label.fitted {\n",
       "  color: var(--sklearn-color-text);\n",
       "  background-color: var(--sklearn-color-fitted-level-2);\n",
       "}\n",
       "\n",
       "/* Estimator label */\n",
       "\n",
       "#sk-container-id-1 div.sk-label label {\n",
       "  font-family: monospace;\n",
       "  font-weight: bold;\n",
       "  display: inline-block;\n",
       "  line-height: 1.2em;\n",
       "}\n",
       "\n",
       "#sk-container-id-1 div.sk-label-container {\n",
       "  text-align: center;\n",
       "}\n",
       "\n",
       "/* Estimator-specific */\n",
       "#sk-container-id-1 div.sk-estimator {\n",
       "  font-family: monospace;\n",
       "  border: 1px dotted var(--sklearn-color-border-box);\n",
       "  border-radius: 0.25em;\n",
       "  box-sizing: border-box;\n",
       "  margin-bottom: 0.5em;\n",
       "  /* unfitted */\n",
       "  background-color: var(--sklearn-color-unfitted-level-0);\n",
       "}\n",
       "\n",
       "#sk-container-id-1 div.sk-estimator.fitted {\n",
       "  /* fitted */\n",
       "  background-color: var(--sklearn-color-fitted-level-0);\n",
       "}\n",
       "\n",
       "/* on hover */\n",
       "#sk-container-id-1 div.sk-estimator:hover {\n",
       "  /* unfitted */\n",
       "  background-color: var(--sklearn-color-unfitted-level-2);\n",
       "}\n",
       "\n",
       "#sk-container-id-1 div.sk-estimator.fitted:hover {\n",
       "  /* fitted */\n",
       "  background-color: var(--sklearn-color-fitted-level-2);\n",
       "}\n",
       "\n",
       "/* Specification for estimator info (e.g. \"i\" and \"?\") */\n",
       "\n",
       "/* Common style for \"i\" and \"?\" */\n",
       "\n",
       ".sk-estimator-doc-link,\n",
       "a:link.sk-estimator-doc-link,\n",
       "a:visited.sk-estimator-doc-link {\n",
       "  float: right;\n",
       "  font-size: smaller;\n",
       "  line-height: 1em;\n",
       "  font-family: monospace;\n",
       "  background-color: var(--sklearn-color-background);\n",
       "  border-radius: 1em;\n",
       "  height: 1em;\n",
       "  width: 1em;\n",
       "  text-decoration: none !important;\n",
       "  margin-left: 1ex;\n",
       "  /* unfitted */\n",
       "  border: var(--sklearn-color-unfitted-level-1) 1pt solid;\n",
       "  color: var(--sklearn-color-unfitted-level-1);\n",
       "}\n",
       "\n",
       ".sk-estimator-doc-link.fitted,\n",
       "a:link.sk-estimator-doc-link.fitted,\n",
       "a:visited.sk-estimator-doc-link.fitted {\n",
       "  /* fitted */\n",
       "  border: var(--sklearn-color-fitted-level-1) 1pt solid;\n",
       "  color: var(--sklearn-color-fitted-level-1);\n",
       "}\n",
       "\n",
       "/* On hover */\n",
       "div.sk-estimator:hover .sk-estimator-doc-link:hover,\n",
       ".sk-estimator-doc-link:hover,\n",
       "div.sk-label-container:hover .sk-estimator-doc-link:hover,\n",
       ".sk-estimator-doc-link:hover {\n",
       "  /* unfitted */\n",
       "  background-color: var(--sklearn-color-unfitted-level-3);\n",
       "  color: var(--sklearn-color-background);\n",
       "  text-decoration: none;\n",
       "}\n",
       "\n",
       "div.sk-estimator.fitted:hover .sk-estimator-doc-link.fitted:hover,\n",
       ".sk-estimator-doc-link.fitted:hover,\n",
       "div.sk-label-container:hover .sk-estimator-doc-link.fitted:hover,\n",
       ".sk-estimator-doc-link.fitted:hover {\n",
       "  /* fitted */\n",
       "  background-color: var(--sklearn-color-fitted-level-3);\n",
       "  color: var(--sklearn-color-background);\n",
       "  text-decoration: none;\n",
       "}\n",
       "\n",
       "/* Span, style for the box shown on hovering the info icon */\n",
       ".sk-estimator-doc-link span {\n",
       "  display: none;\n",
       "  z-index: 9999;\n",
       "  position: relative;\n",
       "  font-weight: normal;\n",
       "  right: .2ex;\n",
       "  padding: .5ex;\n",
       "  margin: .5ex;\n",
       "  width: min-content;\n",
       "  min-width: 20ex;\n",
       "  max-width: 50ex;\n",
       "  color: var(--sklearn-color-text);\n",
       "  box-shadow: 2pt 2pt 4pt #999;\n",
       "  /* unfitted */\n",
       "  background: var(--sklearn-color-unfitted-level-0);\n",
       "  border: .5pt solid var(--sklearn-color-unfitted-level-3);\n",
       "}\n",
       "\n",
       ".sk-estimator-doc-link.fitted span {\n",
       "  /* fitted */\n",
       "  background: var(--sklearn-color-fitted-level-0);\n",
       "  border: var(--sklearn-color-fitted-level-3);\n",
       "}\n",
       "\n",
       ".sk-estimator-doc-link:hover span {\n",
       "  display: block;\n",
       "}\n",
       "\n",
       "/* \"?\"-specific style due to the `<a>` HTML tag */\n",
       "\n",
       "#sk-container-id-1 a.estimator_doc_link {\n",
       "  float: right;\n",
       "  font-size: 1rem;\n",
       "  line-height: 1em;\n",
       "  font-family: monospace;\n",
       "  background-color: var(--sklearn-color-background);\n",
       "  border-radius: 1rem;\n",
       "  height: 1rem;\n",
       "  width: 1rem;\n",
       "  text-decoration: none;\n",
       "  /* unfitted */\n",
       "  color: var(--sklearn-color-unfitted-level-1);\n",
       "  border: var(--sklearn-color-unfitted-level-1) 1pt solid;\n",
       "}\n",
       "\n",
       "#sk-container-id-1 a.estimator_doc_link.fitted {\n",
       "  /* fitted */\n",
       "  border: var(--sklearn-color-fitted-level-1) 1pt solid;\n",
       "  color: var(--sklearn-color-fitted-level-1);\n",
       "}\n",
       "\n",
       "/* On hover */\n",
       "#sk-container-id-1 a.estimator_doc_link:hover {\n",
       "  /* unfitted */\n",
       "  background-color: var(--sklearn-color-unfitted-level-3);\n",
       "  color: var(--sklearn-color-background);\n",
       "  text-decoration: none;\n",
       "}\n",
       "\n",
       "#sk-container-id-1 a.estimator_doc_link.fitted:hover {\n",
       "  /* fitted */\n",
       "  background-color: var(--sklearn-color-fitted-level-3);\n",
       "}\n",
       "</style><div id=\"sk-container-id-1\" class=\"sk-top-container\"><div class=\"sk-text-repr-fallback\"><pre>GridSearchCV(cv=5, estimator=DecisionTreeClassifier(),\n",
       "             param_grid={&#x27;criterion&#x27;: [&#x27;entropy&#x27;], &#x27;max_depth&#x27;: [2, 4, 5],\n",
       "                         &#x27;max_features&#x27;: [100, 150, 200],\n",
       "                         &#x27;random_state&#x27;: [42]},\n",
       "             refit=&#x27;accuracy&#x27;,\n",
       "             scoring={&#x27;accuracy&#x27;: make_scorer(accuracy_score, response_method=&#x27;predict&#x27;),\n",
       "                      &#x27;f1&#x27;: make_scorer(f1_score, response_method=&#x27;predict&#x27;, average=macro)})</pre><b>In a Jupyter environment, please rerun this cell to show the HTML representation or trust the notebook. <br />On GitHub, the HTML representation is unable to render, please try loading this page with nbviewer.org.</b></div><div class=\"sk-container\" hidden><div class=\"sk-item sk-dashed-wrapped\"><div class=\"sk-label-container\"><div class=\"sk-label fitted sk-toggleable\"><input class=\"sk-toggleable__control sk-hidden--visually\" id=\"sk-estimator-id-1\" type=\"checkbox\" ><label for=\"sk-estimator-id-1\" class=\"sk-toggleable__label fitted sk-toggleable__label-arrow fitted\">&nbsp;&nbsp;GridSearchCV<a class=\"sk-estimator-doc-link fitted\" rel=\"noreferrer\" target=\"_blank\" href=\"https://scikit-learn.org/1.5/modules/generated/sklearn.model_selection.GridSearchCV.html\">?<span>Documentation for GridSearchCV</span></a><span class=\"sk-estimator-doc-link fitted\">i<span>Fitted</span></span></label><div class=\"sk-toggleable__content fitted\"><pre>GridSearchCV(cv=5, estimator=DecisionTreeClassifier(),\n",
       "             param_grid={&#x27;criterion&#x27;: [&#x27;entropy&#x27;], &#x27;max_depth&#x27;: [2, 4, 5],\n",
       "                         &#x27;max_features&#x27;: [100, 150, 200],\n",
       "                         &#x27;random_state&#x27;: [42]},\n",
       "             refit=&#x27;accuracy&#x27;,\n",
       "             scoring={&#x27;accuracy&#x27;: make_scorer(accuracy_score, response_method=&#x27;predict&#x27;),\n",
       "                      &#x27;f1&#x27;: make_scorer(f1_score, response_method=&#x27;predict&#x27;, average=macro)})</pre></div> </div></div><div class=\"sk-parallel\"><div class=\"sk-parallel-item\"><div class=\"sk-item\"><div class=\"sk-label-container\"><div class=\"sk-label fitted sk-toggleable\"><input class=\"sk-toggleable__control sk-hidden--visually\" id=\"sk-estimator-id-2\" type=\"checkbox\" ><label for=\"sk-estimator-id-2\" class=\"sk-toggleable__label fitted sk-toggleable__label-arrow fitted\">best_estimator_: DecisionTreeClassifier</label><div class=\"sk-toggleable__content fitted\"><pre>DecisionTreeClassifier(criterion=&#x27;entropy&#x27;, max_depth=5, max_features=200,\n",
       "                       random_state=42)</pre></div> </div></div><div class=\"sk-serial\"><div class=\"sk-item\"><div class=\"sk-estimator fitted sk-toggleable\"><input class=\"sk-toggleable__control sk-hidden--visually\" id=\"sk-estimator-id-3\" type=\"checkbox\" ><label for=\"sk-estimator-id-3\" class=\"sk-toggleable__label fitted sk-toggleable__label-arrow fitted\">&nbsp;DecisionTreeClassifier<a class=\"sk-estimator-doc-link fitted\" rel=\"noreferrer\" target=\"_blank\" href=\"https://scikit-learn.org/1.5/modules/generated/sklearn.tree.DecisionTreeClassifier.html\">?<span>Documentation for DecisionTreeClassifier</span></a></label><div class=\"sk-toggleable__content fitted\"><pre>DecisionTreeClassifier(criterion=&#x27;entropy&#x27;, max_depth=5, max_features=200,\n",
       "                       random_state=42)</pre></div> </div></div></div></div></div></div></div></div></div>"
      ],
      "text/plain": [
       "GridSearchCV(cv=5, estimator=DecisionTreeClassifier(),\n",
       "             param_grid={'criterion': ['entropy'], 'max_depth': [2, 4, 5],\n",
       "                         'max_features': [100, 150, 200],\n",
       "                         'random_state': [42]},\n",
       "             refit='accuracy',\n",
       "             scoring={'accuracy': make_scorer(accuracy_score, response_method='predict'),\n",
       "                      'f1': make_scorer(f1_score, response_method='predict', average=macro)})"
      ]
     },
     "execution_count": 6,
     "metadata": {},
     "output_type": "execute_result"
    }
   ],
   "source": [
    "param_grid = {'criterion':['entropy'], 'random_state':[42], 'max_features': [100, 150, 200], 'max_depth': [2, 4, 5]}\n",
    "scorers = {'accuracy':make_scorer(accuracy_score), 'f1':make_scorer(f1_score, average=\"macro\")}\n",
    "\n",
    "tree = DecisionTreeClassifier()\n",
    "tree_clf = GridSearchCV(tree, param_grid, cv=5, scoring=scorers, refit='accuracy')\n",
    "tree_clf.fit(X_train, y_train)"
   ]
  },
  {
   "cell_type": "code",
   "execution_count": 7,
   "id": "8544dfaf-b063-497b-ad61-4a075a761943",
   "metadata": {},
   "outputs": [
    {
     "name": "stdout",
     "output_type": "stream",
     "text": [
      "The best hyperparameter values are: {'criterion': 'entropy', 'max_depth': 5, 'max_features': 200, 'random_state': 42}\n"
     ]
    }
   ],
   "source": [
    "print(f\"The best hyperparameter values are: {tree_clf.best_params_}\")"
   ]
  },
  {
   "cell_type": "markdown",
   "id": "ba7ac64f-8a0e-4737-a3e3-1c0afb799651",
   "metadata": {},
   "source": [
    "The best hyperparameter values are the biggest values that we give. This means that, these may not be the true best values and if we give even bigger values they could be even better."
   ]
  },
  {
   "cell_type": "code",
   "execution_count": 8,
   "id": "37a6b6fc-07f1-40cc-b462-68a22b2823e7",
   "metadata": {},
   "outputs": [
    {
     "name": "stdout",
     "output_type": "stream",
     "text": [
      "                                          parameters  accuracy  f1_score  \\\n",
      "0  {'criterion': 'entropy', 'max_depth': 2, 'max_...    0.8005    0.7965   \n",
      "1  {'criterion': 'entropy', 'max_depth': 2, 'max_...    0.8005    0.7961   \n",
      "2  {'criterion': 'entropy', 'max_depth': 2, 'max_...    0.8075    0.8036   \n",
      "3  {'criterion': 'entropy', 'max_depth': 4, 'max_...    0.8035    0.7996   \n",
      "4  {'criterion': 'entropy', 'max_depth': 4, 'max_...    0.8060    0.8019   \n",
      "5  {'criterion': 'entropy', 'max_depth': 4, 'max_...    0.8030    0.7988   \n",
      "6  {'criterion': 'entropy', 'max_depth': 5, 'max_...    0.8030    0.7990   \n",
      "7  {'criterion': 'entropy', 'max_depth': 5, 'max_...    0.8000    0.7967   \n",
      "8  {'criterion': 'entropy', 'max_depth': 5, 'max_...    0.8060    0.8025   \n",
      "\n",
      "     time  \n",
      "0  3.2068  \n",
      "1  3.1589  \n",
      "2  3.2395  \n",
      "3  3.2272  \n",
      "4  3.2254  \n",
      "5  3.2318  \n",
      "6  3.2528  \n",
      "7  3.3156  \n",
      "8  3.1749  \n"
     ]
    }
   ],
   "source": [
    "param_combinations = tree_clf.cv_results_[\"params\"]\n",
    "\n",
    "test_results = []\n",
    "\n",
    "for params in param_combinations:\n",
    "\n",
    "    start = time.time()\n",
    "    tree.fit(X_train, y_train)\n",
    "    stop = time.time()\n",
    "    training_time = stop-start\n",
    "   \n",
    "    y_test_pred = tree.predict(X_test)\n",
    "    \n",
    "    test_acc = accuracy_score(y_test, y_test_pred)\n",
    "    test_f1 = f1_score(y_test, y_test_pred, average=\"macro\")\n",
    "\n",
    "    test_results.append({\n",
    "        \"parameters\": params,\n",
    "        \"accuracy\": test_acc,\n",
    "        \"f1_score\": test_f1,\n",
    "        \"time\": training_time\n",
    "    })\n",
    "    \n",
    "\n",
    "test_results_df = pd.DataFrame(test_results)\n",
    "print(round(test_results_df, 4))"
   ]
  },
  {
   "cell_type": "code",
   "execution_count": 9,
   "id": "262b3368-291a-40bf-b4b4-46aef0b540ea",
   "metadata": {},
   "outputs": [],
   "source": [
    "pca_tree = make_pipeline(\n",
    "    StandardScaler(), #The scaler is not needed for the Decicion Tree but for the PCA\n",
    "    PCA(n_components=0.90, random_state=42),\n",
    "    DecisionTreeClassifier(criterion='entropy', random_state=42, max_depth=5, max_features=200)\n",
    "    )"
   ]
  },
  {
   "cell_type": "code",
   "execution_count": 10,
   "id": "f536c980-b3e7-4894-985a-fd531d3bf1fa",
   "metadata": {},
   "outputs": [
    {
     "name": "stdout",
     "output_type": "stream",
     "text": [
      "Training time: 4.811991453170776\n"
     ]
    }
   ],
   "source": [
    "start = time.time()\n",
    "pca_tree.fit(X_train, y_train)\n",
    "stop = time.time()\n",
    "print(f\"Training time: {stop-start}\")"
   ]
  },
  {
   "cell_type": "code",
   "execution_count": 11,
   "id": "1c8fad74-a811-4860-8060-dd14a6001ae7",
   "metadata": {},
   "outputs": [
    {
     "name": "stdout",
     "output_type": "stream",
     "text": [
      "The number of components selected by PCA are:203\n"
     ]
    }
   ],
   "source": [
    "print(f\"The number of components selected by PCA are:{pca_tree.named_steps['pca'].n_components_}\")"
   ]
  },
  {
   "cell_type": "code",
   "execution_count": 12,
   "id": "5619196b-ff22-49b8-bcff-c3da6f584794",
   "metadata": {},
   "outputs": [
    {
     "name": "stdout",
     "output_type": "stream",
     "text": [
      "accuracy after PCA: 0.6545, f1_score after PCA: 0.6472\n"
     ]
    }
   ],
   "source": [
    "y_test_pred = pca_tree.predict(X_test)\n",
    "\n",
    "test_acc = accuracy_score(y_test, y_test_pred)\n",
    "test_f1 = f1_score(y_test, y_test_pred, average=\"macro\")\n",
    "\n",
    "print(f\"accuracy after PCA: {round(test_acc, 4)}, f1_score after PCA: {round(test_f1, 4)}\")"
   ]
  },
  {
   "cell_type": "markdown",
   "id": "f5f65126-3ec8-414f-ad89-a7b11d139add",
   "metadata": {},
   "source": [
    "The accuracy and the F1-score of the decision tree is approximately 18% lower after the PCA transformation. The time needed to fit the pipeline (scaler, pca, tree) to the dataset is larger than that of fitting only the tree. So in this dataset, PCA doesn't reduce the dimensionality significantly and the training of the whole pipeline is slower. PCA doesn't have any important advantages on this scenario. In other problems, PCA could reduce fitting time or improve visualization."
   ]
  },
  {
   "cell_type": "code",
   "execution_count": 13,
   "id": "8b919ed9-e812-4e83-ad3c-297c5375c23e",
   "metadata": {},
   "outputs": [],
   "source": [
    "gbc = GradientBoostingClassifier(max_depth=2, n_estimators=6, learning_rate=1.0, random_state=42)"
   ]
  },
  {
   "cell_type": "code",
   "execution_count": 14,
   "id": "21ea453f-6cb6-4944-a126-164f77c63a81",
   "metadata": {},
   "outputs": [],
   "source": [
    "pca = make_pipeline(\n",
    "    StandardScaler(),\n",
    "    PCA(n_components=203, random_state=42)\n",
    ")\n",
    "\n",
    "X_train_reduced = pca.fit_transform(X_train)\n",
    "X_test_reduced = pca.transform(X_test)"
   ]
  },
  {
   "cell_type": "code",
   "execution_count": 15,
   "id": "c0307182-ccd0-4b5a-a2b5-c5aab81acd4a",
   "metadata": {},
   "outputs": [],
   "source": [
    "start = time.time()\n",
    "gbc.fit(X_train_reduced, y_train)\n",
    "end = time.time()\n",
    "time_elapsed = end - start"
   ]
  },
  {
   "cell_type": "code",
   "execution_count": 16,
   "id": "83d67a6a-3e0f-420b-96df-3fdc5a2cfede",
   "metadata": {},
   "outputs": [
    {
     "name": "stdout",
     "output_type": "stream",
     "text": [
      "accuracy: 0.7905, f1_score: 0.7875, train_time: 54.5775\n"
     ]
    }
   ],
   "source": [
    "y_test_pred = gbc.predict(X_test_reduced)\n",
    "test_acc = accuracy_score(y_test, y_test_pred)\n",
    "test_f1 = f1_score(y_test, y_test_pred, average=\"macro\")\n",
    "\n",
    "print(f\"accuracy: {test_acc:.4f}, f1_score: {test_f1:.4f}, train_time: {time_elapsed:.4f}\")"
   ]
  },
  {
   "cell_type": "markdown",
   "id": "c816b292-9776-4d1e-ae9b-5dda26d0f520",
   "metadata": {},
   "source": [
    "Gradient Boosting is an ensemble method that uses sequential learning. Each new tree learns only the most important features and corrects the errors from the previous errors. On the other hand, a deeper Tree Classifier may lead to overfitting. That is why the gradient boostin classifier outperforms the tree classifier."
   ]
  },
  {
   "cell_type": "code",
   "execution_count": 17,
   "id": "d4b535a2-fc8b-4a9a-8d50-2d539efad1ed",
   "metadata": {},
   "outputs": [
    {
     "data": {
      "image/png": "[encoded data removed]",
      "text/plain": [
       "<Figure size 1000x500 with 10 Axes>"
      ]
     },
     "metadata": {},
     "output_type": "display_data"
    }
   ],
   "source": [
    "X_train_reconstructed = pca.inverse_transform(X_train_reduced)  \n",
    "original_images = X_train.reshape(-1, 28, 28) \n",
    "reconstructed_images = X_train_reconstructed.reshape(-1, 28, 28)\n",
    "\n",
    "fig, axes = plt.subplots(2, 5, figsize=(10, 5))\n",
    "\n",
    "for i in range(5):\n",
    "\n",
    "    axes[0, i].imshow(reconstructed_images[i], cmap='gray')\n",
    "    axes[0, i].set_title(y_train[i])\n",
    "    axes[0, i].axis(\"off\")\n",
    "    axes[1, i].imshow(original_images[i], cmap='gray')\n",
    "    axes[1, i].axis(\"off\")\n",
    "    \n",
    "plt.suptitle(\"Reconstructed Images using PCA\")\n",
    "plt.tight_layout()\n",
    "plt.show()"
   ]
  },
  {
   "cell_type": "markdown",
   "id": "7492e88e-92af-4ded-b4ae-fe369b076436",
   "metadata": {},
   "source": [
    "The reconstructed images (first line) have lost some of the details and appear blurry but they still preserve the general shape of the digits. If we had choosen a higher number of principal components we would have a better quality."
   ]
  },
  {
   "cell_type": "code",
   "execution_count": 18,
   "id": "b78d08ac-e7c2-4b95-9e15-d5f390a75a30",
   "metadata": {},
   "outputs": [],
   "source": [
    "km = KMeans(n_clusters=20, random_state=42)\n",
    "start = time.time()\n",
    "km.fit(X_train_reduced, y_train)\n",
    "end = time.time()\n",
    "time_elapsed = end - start"
   ]
  },
  {
   "cell_type": "code",
   "execution_count": 19,
   "id": "168dc145-e8d0-45c2-8b5c-5889545b29af",
   "metadata": {},
   "outputs": [
    {
     "data": {
      "image/png": "[encoded data removed]",
      "text/plain": [
       "<Figure size 1200x600 with 20 Axes>"
      ]
     },
     "metadata": {},
     "output_type": "display_data"
    }
   ],
   "source": [
    "cluster_centroids = km.cluster_centers_\n",
    "reconstructed_centroids = pca.inverse_transform(cluster_centroids)\n",
    "centroid_images = reconstructed_centroids.reshape(-1, 28, 28)\n",
    "fig, axes = plt.subplots(2, 10, figsize=(12,6))\n",
    "\n",
    "for i, ax in enumerate(axes.flat):\n",
    "    ax.imshow(centroid_images[i], cmap='gray')\n",
    "    ax.set_title(f\"Cluster {i+1}\")\n",
    "    ax.axis(\"off\")\n",
    "\n",
    "plt.suptitle(\"Most Representative Digits (KMeans Centroids)\")\n",
    "plt.tight_layout()\n",
    "plt.show()"
   ]
  },
  {
   "cell_type": "code",
   "execution_count": 20,
   "id": "759262a1-7d17-42d3-9d22-134d8cd29152",
   "metadata": {},
   "outputs": [],
   "source": [
    "y_manually_labelled = np.array([6, 6, 8, 5, 7, 3, 7, 1, 2, 9, 9, 6, 9, 6, 7, 1, 0, 2, 0, 3])"
   ]
  },
  {
   "cell_type": "code",
   "execution_count": 21,
   "id": "cca754af-601f-49fa-8df0-080fab92e6d8",
   "metadata": {},
   "outputs": [
    {
     "name": "stdout",
     "output_type": "stream",
     "text": [
      "Clustering-Based Label Propagation Accuracy: 0.5595\n",
      "Clustering-Based Label Propagation F1-score: 0.5256\n",
      "Training Time: 0.7451\n"
     ]
    }
   ],
   "source": [
    "distances = cdist(X_test_reduced, cluster_centroids) \n",
    "\n",
    "closest_clusters = np.argmin(distances, axis=1)  \n",
    "\n",
    "y_pred = y_manually_labelled[closest_clusters]\n",
    "\n",
    "accuracy = accuracy_score(y_test, y_pred)\n",
    "f1 = f1_score(y_test, y_pred, average=\"weighted\")\n",
    "\n",
    "print(f\"Clustering-Based Label Propagation Accuracy: {accuracy:.4f}\")\n",
    "print(f\"Clustering-Based Label Propagation F1-score: {f1:.4f}\")\n",
    "print(f\"Training Time: {time_elapsed:.4f}\")"
   ]
  },
  {
   "cell_type": "markdown",
   "id": "a6d3ffef-8f03-4621-824a-1399c107fed4",
   "metadata": {},
   "source": [
    "We can see that k-means is much faster than the previous algorithms but has an important loss in accuracy and F1-score. We may choose k-means only if the training dataset is very big and fitting time is an important parameter."
   ]
  }
 ],
 "metadata": {
  "kernelspec": {
   "display_name": "Python 3 (ipykernel)",
   "language": "python",
   "name": "python3"
  },
  "language_info": {
   "codemirror_mode": {
    "name": "ipython",
    "version": 3
   },
   "file_extension": ".py",
   "mimetype": "text/x-python",
   "name": "python",
   "nbconvert_exporter": "python",
   "pygments_lexer": "ipython3",
   "version": "3.12.5"
  }
 },
 "nbformat": 4,
 "nbformat_minor": 5
}
